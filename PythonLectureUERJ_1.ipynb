{
 "cells": [
  {
   "cell_type": "markdown",
   "metadata": {
    "slideshow": {
     "slide_type": "slide"
    }
   },
   "source": [
    "#                                                Python\n",
    "                  Carsten Hensel && Helena Malbouisson\n",
    "                  \n",
    "                  \n",
    "                  \n",
    "                  \n",
    "                  \n",
    "                  \n",
    "                  \n",
    "                  \n",
    "2ª ESCOLA DO PROGRAMA DE PÓS-GRADUAÇÃO EM FÍSICA DA UERJ"
   ]
  },
  {
   "cell_type": "markdown",
   "metadata": {
    "slideshow": {
     "slide_type": "slide"
    }
   },
   "source": [
    "## Objetivo:\n",
    "\n",
    "Obter uma visão geral de python e algumas de suas aplicações em Física de Partículas, em particular seu uso com o ROOT.\n",
    "\n"
   ]
  },
  {
   "cell_type": "markdown",
   "metadata": {
    "slideshow": {
     "slide_type": "subslide"
    }
   },
   "source": [
    "### O que esperamos dos alunos ANTES da oficina:"
   ]
  },
  {
   "cell_type": "markdown",
   "metadata": {
    "slideshow": {
     "slide_type": "fragment"
    }
   },
   "source": [
    " 1) que não tenham medo do computador\n",
    " "
   ]
  },
  {
   "cell_type": "markdown",
   "metadata": {
    "slideshow": {
     "slide_type": "fragment"
    }
   },
   "source": [
    "2) saber uma outra linguagem de programação é vantagem mas não um requerimento"
   ]
  },
  {
   "cell_type": "markdown",
   "metadata": {
    "slideshow": {
     "slide_type": "fragment"
    }
   },
   "source": [
    "3) que tenham curiosidade\n",
    "\n"
   ]
  },
  {
   "cell_type": "markdown",
   "metadata": {
    "slideshow": {
     "slide_type": "subslide"
    }
   },
   "source": [
    "### O que esperamos que os alunos aprendam na oficina:\n",
    " "
   ]
  },
  {
   "cell_type": "markdown",
   "metadata": {
    "slideshow": {
     "slide_type": "fragment"
    }
   },
   "source": [
    "1) escrever um script simples de python e saber onde procurar informação para códigos mais complexos"
   ]
  },
  {
   "cell_type": "markdown",
   "metadata": {
    "slideshow": {
     "slide_type": "fragment"
    }
   },
   "source": [
    "2) manipulação e visualisação de dados"
   ]
  },
  {
   "cell_type": "markdown",
   "metadata": {
    "slideshow": {
     "slide_type": "slide"
    }
   },
   "source": [
    "## Sumário\n",
    "<ul>\n",
    "<li> Aula 1\n",
    "  <ul>\n",
    "  <li> Introdução a Python\n",
    "  <li> O básico de python\n",
    "  <li> Diferenças em relação a outras linguagens de programação\n",
    "  <li> Aplicações em Física\n",
    "  </ul>"
   ]
  },
  {
   "cell_type": "markdown",
   "metadata": {
    "slideshow": {
     "slide_type": "subslide"
    }
   },
   "source": [
    "* Aula 2\n",
    "  * Objetos de Python\n",
    "  * Fluxo de controle\n",
    "  * Programação Objeto Orientada e Funcional\n",
    "  * Gerenciamento de código\n",
    "\n",
    "\n",
    "* Aula 3\n",
    "  * Introdução a rootpy\n",
    "  * Análise de dados com rootpy"
   ]
  },
  {
   "cell_type": "markdown",
   "metadata": {
    "slideshow": {
     "slide_type": "slide"
    }
   },
   "source": [
    "# Introdução                      \n",
    "![title](GuidoVanRossum.jpg)"
   ]
  },
  {
   "cell_type": "markdown",
   "metadata": {
    "slideshow": {
     "slide_type": "slide"
    }
   },
   "source": [
    "# Que tipo de linguagem de programação é Python?\n",
    "![title](python.jpg)"
   ]
  },
  {
   "cell_type": "markdown",
   "metadata": {
    "slideshow": {
     "slide_type": "slide"
    }
   },
   "source": [
    "# Python"
   ]
  },
  {
   "cell_type": "markdown",
   "metadata": {
    "slideshow": {
     "slide_type": "fragment"
    }
   },
   "source": [
    "* linguagem \"open source\" de propósito geral\n",
    "* objeto orientada, procedural, funcional\n",
    "* fácil para fazer interface com C/ObjC/Java/Fortran\n",
    "* (+ ou -) fácil para fazer interface com C++ (via SWIG)\n",
    "* ótimo ambiente interativo"
   ]
  },
  {
   "cell_type": "markdown",
   "metadata": {
    "slideshow": {
     "slide_type": "slide"
    }
   },
   "source": [
    "# O Zen do Python"
   ]
  },
  {
   "cell_type": "markdown",
   "metadata": {
    "slideshow": {
     "slide_type": "fragment"
    }
   },
   "source": [
    "<table>\n",
    "   <tr>\n",
    "      <td>\n",
    "        <font size=\"4\">\n",
    "        <li align=\"left\">Bonito é melhor do que feio. </li>\n",
    "        <li>Explícito é melhor do que implícito.</li>\n",
    "        <li><font color='red'>Simples é melhor do que complexo.</font></li>\n",
    "        <li>Complexo é melhor do que complicado.</li>\n",
    "        <li>Linear é melhor do que aninhado.</li>\n",
    "        <li><font color='red'>Legibilidade conta.</font></li>\n",
    "        <li>Casos especiais não são especiais o bastante para quebrar as regras.</li>\n",
    "      </td>\n",
    "      <td>\n",
    "        <font size=\"4\">\n",
    "        <li>Ainda que praticidade vença a pureza.</li>\n",
    "        <li>Diante da ambigüidade, recuse a tentação de adivinhar.<br>\n",
    "        <li>Deveria haver um — e preferencialmente só um — modo óbvio para fazer algo.<br>\n",
    "        <li>Agora é melhor que nunca.<br>\n",
    "        <li>Embora nunca freqüentemente seja melhor que já.<br>\n",
    "        <li><font color='red'>Se a implementação é difícil de explicar, é uma má idéia.</font><br>\n",
    "        <li>Se a implementação é fácil de explicar, pode ser uma boa idéia.</li>\n",
    "      </td>\n",
    "   </tr>\n",
    "</table>"
   ]
  },
  {
   "cell_type": "code",
   "execution_count": 22,
   "metadata": {
    "slideshow": {
     "slide_type": "subslide"
    }
   },
   "outputs": [
    {
     "name": "stdout",
     "output_type": "stream",
     "text": [
      "The Zen of Python, by Tim Peters\n",
      "\n",
      "Beautiful is better than ugly.\n",
      "Explicit is better than implicit.\n",
      "Simple is better than complex.\n",
      "Complex is better than complicated.\n",
      "Flat is better than nested.\n",
      "Sparse is better than dense.\n",
      "Readability counts.\n",
      "Special cases aren't special enough to break the rules.\n",
      "Although practicality beats purity.\n",
      "Errors should never pass silently.\n",
      "Unless explicitly silenced.\n",
      "In the face of ambiguity, refuse the temptation to guess.\n",
      "There should be one-- and preferably only one --obvious way to do it.\n",
      "Although that way may not be obvious at first unless you're Dutch.\n",
      "Now is better than never.\n",
      "Although never is often better than *right* now.\n",
      "If the implementation is hard to explain, it's a bad idea.\n",
      "If the implementation is easy to explain, it may be a good idea.\n",
      "Namespaces are one honking great idea -- let's do more of those!\n"
     ]
    }
   ],
   "source": [
    "import this"
   ]
  },
  {
   "cell_type": "markdown",
   "metadata": {
    "slideshow": {
     "slide_type": "slide"
    }
   },
   "source": [
    "# O básico de Python\n",
    "Começando a programar em Python\n",
    "\n",
    "![title](pythonLogo.jpg)"
   ]
  },
  {
   "cell_type": "markdown",
   "metadata": {
    "slideshow": {
     "slide_type": "slide"
    }
   },
   "source": [
    "# Qual versão de Python?\n",
    "* A versão \"atual\" é a versão 3.2.X\n",
    "* 2.7.X é a última 'release' de PYTHON 2.\n",
    "* As diferenças são pequenas para os iniciantes.\n",
    "* Se você estiver começando a escrever código em Python, talvez seja bom usar PYTHON 3\n",
    "* **Porém** nessa oficina faremos uso do pacote **rootpy**, que por enquanto só funciona em PYTHON 2.\n"
   ]
  },
  {
   "cell_type": "markdown",
   "metadata": {
    "slideshow": {
     "slide_type": "slide"
    }
   },
   "source": [
    "# Rodando Python\n",
    "\n",
    "* Partimos do princípio que você tem PYTHON já instalado no seu sistema operacional.\n",
    "* PYTHON já vem pré-instalado em Linux e Mac-OSX.\n",
    "* Para Windows, veja instruções (e binários) em www.python.org."
   ]
  },
  {
   "cell_type": "markdown",
   "metadata": {
    "slideshow": {
     "slide_type": "slide"
    }
   },
   "source": [
    "# Rodando Python -- O interpretador de Python\n",
    "\n",
    "* Interface interativa do Python\n",
    "<img src=\"pythonPrompt.png\" alt=\"\" style=\"width: 600px;\"/>"
   ]
  },
  {
   "cell_type": "code",
   "execution_count": 16,
   "metadata": {
    "slideshow": {
     "slide_type": "fragment"
    }
   },
   "outputs": [
    {
     "data": {
      "text/plain": [
       "27"
      ]
     },
     "execution_count": 16,
     "metadata": {},
     "output_type": "execute_result"
    }
   ],
   "source": [
    "3*(7+2)"
   ]
  },
  {
   "cell_type": "markdown",
   "metadata": {
    "slideshow": {
     "slide_type": "fragment"
    }
   },
   "source": [
    "* Para sair: ctrl + D"
   ]
  },
  {
   "cell_type": "markdown",
   "metadata": {
    "slideshow": {
     "slide_type": "slide"
    }
   },
   "source": [
    "# Rodando Python -- Rodando programas\n",
    "\n",
    "* execute seu programa:\n",
    "<img src=\"pythonProgram.png\" alt=\"\" style=\"width: 400px;\"/>\n",
    "\n",
    "* ou torne seu programa executável adicionando a seguinte linha no topo do seu programa (altamente dependende de plataforma): ** #!/usr/bin/env **"
   ]
  },
  {
   "cell_type": "markdown",
   "metadata": {
    "slideshow": {
     "slide_type": "slide"
    }
   },
   "source": [
    "# Um exemplo de código\n",
    "\n"
   ]
  },
  {
   "cell_type": "markdown",
   "metadata": {
    "slideshow": {
     "slide_type": "slide"
    }
   },
   "source": [
    "![title](codeEx.jpg)\n",
    "<font size=\"4\">\n",
    "<ul>\n",
    "<li> atribuição de valores com '=' e comparações com '==' </li>\n",
    "<li> para números, o uso dos operadores '+ - * / %' é como o esperado</li>\n",
    "   <ul>\n",
    "   <li> uso especial do operador '+' para concatenação de string</li>\n",
    "   <li> uso especial de '%' para formatação de string</li>\n",
    "   </ul>\n",
    "<li> operadores lógicos são palavras (** and **, ** or **, **not** ) e não símbolos</li>\n",
    "<li> comando básico para imprimir na tela é <font color='red'>print</font></li>\n",
    "<li> uma variável é criada em sua primeira atribuição</li>\n",
    "   <ul>\n",
    "   <li> os tipos das variáveis não precisam ser declarados</li>\n",
    "   <li> o Python reconhece sozinho o tipo de cada variável</li>\n",
    "   </ul>\n",
    "</ul>\n",
    "</font>"
   ]
  },
  {
   "cell_type": "code",
   "execution_count": 39,
   "metadata": {
    "slideshow": {
     "slide_type": "slide"
    }
   },
   "outputs": [
    {
     "name": "stdout",
     "output_type": "stream",
     "text": [
      "12\n",
      "Podemos imprimir a frase: \"Hello World!\"\n"
     ]
    }
   ],
   "source": [
    "x = 34 - 23                      # comentário\n",
    "\n",
    "y = \"Hello\"                      # outro comentário\n",
    "\n",
    "z = 3.45\n",
    "\n",
    "if z == 3.45 or y == \"Hello\":\n",
    "    x = x + 1\n",
    "    y = y + \" World!\"            # concatenação de string\n",
    "    \n",
    "print (x)\n",
    "print ('Podemos imprimir a frase: \"%s\"' % y)  #formatação de string"
   ]
  },
  {
   "cell_type": "markdown",
   "metadata": {
    "slideshow": {
     "slide_type": "slide"
    }
   },
   "source": [
    "# Tipos de dados simples em Python\n",
    "\n",
    "* Inteiros"
   ]
  },
  {
   "cell_type": "code",
   "execution_count": 40,
   "metadata": {
    "slideshow": {
     "slide_type": "fragment"
    }
   },
   "outputs": [
    {
     "name": "stdout",
     "output_type": "stream",
     "text": [
      "2\n"
     ]
    }
   ],
   "source": [
    "z = 5/2                         # divisão de número inteiro\n",
    "print (z)"
   ]
  },
  {
   "cell_type": "markdown",
   "metadata": {
    "slideshow": {
     "slide_type": "fragment"
    }
   },
   "source": [
    "* Floats\n",
    "x = 3.456"
   ]
  },
  {
   "cell_type": "markdown",
   "metadata": {
    "slideshow": {
     "slide_type": "fragment"
    }
   },
   "source": [
    "* Strings"
   ]
  },
  {
   "cell_type": "code",
   "execution_count": 41,
   "metadata": {
    "slideshow": {
     "slide_type": "fragment"
    }
   },
   "outputs": [
    {
     "name": "stdout",
     "output_type": "stream",
     "text": [
      "abc, abc, abc\n"
     ]
    }
   ],
   "source": [
    "s = 'abc'\n",
    "st = \"abc\"\n",
    "stri = \"\"\"abc\"\"\"\n",
    "print ('%s, %s, %s' % (s, st, stri))"
   ]
  },
  {
   "cell_type": "markdown",
   "metadata": {
    "slideshow": {
     "slide_type": "slide"
    }
   },
   "source": [
    "Chegamos ao ponto em que precisamos falar sobre como o Python trata a nomenclatura das variáveis."
   ]
  },
  {
   "cell_type": "markdown",
   "metadata": {
    "collapsed": true,
    "slideshow": {
     "slide_type": "slide"
    }
   },
   "source": [
    "# Entendendo a semântica de referência \n",
    "\n",
    "* Outras linguagens de programação têm variáveis\n",
    "* Atribuir um valor a uma variável, colo o valor em uma \"caixa\"\n",
    "* A caixa 'a' contém o valor '1'\n",
    "![title](boxA.png)\n",
    "* atribuindo-se um novo valor à mesma variável, substiuímos o conteúdo da caixa\n",
    "![title](boxA_2.png)\n"
   ]
  },
  {
   "cell_type": "markdown",
   "metadata": {
    "slideshow": {
     "slide_type": "subslide"
    }
   },
   "source": [
    "* atribuindo-se uma variável a uma outra variável, faz uma cópia do valor e o coloca em uma nova caixa\n",
    "![title](boxA_B.png)\n",
    "* A caixa 'b' é uma nova caixa com o valor da caixa 'a'."
   ]
  },
  {
   "cell_type": "markdown",
   "metadata": {
    "slideshow": {
     "slide_type": "slide"
    }
   },
   "source": [
    "# Entendendo Semântica de Referências"
   ]
  },
  {
   "cell_type": "markdown",
   "metadata": {
    "slideshow": {
     "slide_type": "fragment"
    }
   },
   "source": [
    "* <font color=red>Isso tem importância? </font>\n",
    "* Para tipos de dados simples embutidos em Python, as atribuições se comportam como esperado"
   ]
  },
  {
   "cell_type": "code",
   "execution_count": 35,
   "metadata": {
    "slideshow": {
     "slide_type": "fragment"
    }
   },
   "outputs": [
    {
     "name": "stdout",
     "output_type": "stream",
     "text": [
      "2\n",
      "4\n"
     ]
    }
   ],
   "source": [
    "a = 2\n",
    "b = a\n",
    "print (b)\n",
    "b = 4\n",
    "print (b)"
   ]
  },
  {
   "cell_type": "code",
   "execution_count": 36,
   "metadata": {
    "slideshow": {
     "slide_type": "fragment"
    }
   },
   "outputs": [
    {
     "name": "stdout",
     "output_type": "stream",
     "text": [
      "2\n"
     ]
    }
   ],
   "source": [
    "print (a)"
   ]
  },
  {
   "cell_type": "markdown",
   "metadata": {
    "slideshow": {
     "slide_type": "slide"
    }
   },
   "source": [
    "# Entendendo Semântica de Referências\n",
    "\n",
    "* Porém, tipos <font color=red> mutáveis </font> se comportam de forma diferente!"
   ]
  },
  {
   "cell_type": "code",
   "execution_count": 43,
   "metadata": {
    "slideshow": {
     "slide_type": "fragment"
    }
   },
   "outputs": [
    {
     "name": "stdout",
     "output_type": "stream",
     "text": [
      "[1, 5, 10]\n",
      "[1, 5, 10, 33]\n"
     ]
    }
   ],
   "source": [
    "a = [1, 5, 10]                # isso é uma lista\n",
    "b = a\n",
    "print (b)\n",
    "b.append(33)\n",
    "print (b)"
   ]
  },
  {
   "cell_type": "code",
   "execution_count": 44,
   "metadata": {
    "slideshow": {
     "slide_type": "fragment"
    }
   },
   "outputs": [
    {
     "name": "stdout",
     "output_type": "stream",
     "text": [
      "[1, 5, 10, 33]\n"
     ]
    }
   ],
   "source": [
    "print (a)"
   ]
  },
  {
   "cell_type": "markdown",
   "metadata": {
    "slideshow": {
     "slide_type": "slide"
    }
   },
   "source": [
    "# Tipos de Sequências: Tuplas, Listas e Strings"
   ]
  },
  {
   "cell_type": "markdown",
   "metadata": {
    "slideshow": {
     "slide_type": "slide"
    }
   },
   "source": [
    "* <font color=red> Tupla </font>  \n",
    "   * Uma sequência simples e imutável de ítens.\n",
    "   * Ítens podem ser de tipos mistos, incluindo sequências de tipos "
   ]
  },
  {
   "cell_type": "markdown",
   "metadata": {
    "slideshow": {
     "slide_type": "fragment"
    }
   },
   "source": [
    "* <font color=red> Strings </font>\n",
    "   * Imutável\n",
    "   * conceitualmente muito parecida com uma Tupla"
   ]
  },
  {
   "cell_type": "markdown",
   "metadata": {
    "slideshow": {
     "slide_type": "fragment"
    }
   },
   "source": [
    "* <font color=red> Lista </font>\n",
    "   * Mutável, uma sequência ordenada de tipos mistos"
   ]
  },
  {
   "cell_type": "markdown",
   "metadata": {
    "slideshow": {
     "slide_type": "slide"
    }
   },
   "source": [
    "* Todos os três tipos de sequência compartilham bastante da mesma sintaxe e funcionalidade\n",
    "\n",
    "\n",
    "* Diferenças mais importantes:\n",
    "   * tuplas e strings são imutáveis\n",
    "   * listas são mutáveis\n",
    "\n",
    "\n",
    "* Os exemplos que mostraremos podem ser aplicados a todos os tipos de sequência"
   ]
  },
  {
   "cell_type": "markdown",
   "metadata": {
    "slideshow": {
     "slide_type": "slide"
    }
   },
   "source": [
    "# Tipos de Sequências: Definições\n",
    "\n",
    "* Tuplas são definidas usando parênteses (e vírgulas)."
   ]
  },
  {
   "cell_type": "code",
   "execution_count": 31,
   "metadata": {
    "collapsed": true,
    "slideshow": {
     "slide_type": "fragment"
    }
   },
   "outputs": [],
   "source": [
    "tupla = (3, 'abc', 4.56, (2, 23), 'k')"
   ]
  },
  {
   "cell_type": "markdown",
   "metadata": {
    "slideshow": {
     "slide_type": "fragment"
    }
   },
   "source": [
    "* Listas são definidas usando colchete (e vírgulas)."
   ]
  },
  {
   "cell_type": "code",
   "execution_count": 20,
   "metadata": {
    "collapsed": true,
    "slideshow": {
     "slide_type": "fragment"
    }
   },
   "outputs": [],
   "source": [
    "lista = ['abc', 34, 3.1415, 23]"
   ]
  },
  {
   "cell_type": "markdown",
   "metadata": {
    "slideshow": {
     "slide_type": "fragment"
    }
   },
   "source": [
    "* Strings são definidas usando aspas"
   ]
  },
  {
   "cell_type": "code",
   "execution_count": 33,
   "metadata": {
    "collapsed": true,
    "slideshow": {
     "slide_type": "fragment"
    }
   },
   "outputs": [],
   "source": [
    "st = 'Hello'\n",
    "st = \"Hello\"\n",
    "st = \"\"\"Hello\"\"\""
   ]
  },
  {
   "cell_type": "markdown",
   "metadata": {
    "slideshow": {
     "slide_type": "slide"
    }
   },
   "source": [
    "# Tipos de Sequências: acessando membros\n",
    "\n",
    "* Membros individuais de uma **tupla**, **lista** ou **string** podem ser acessados usando uma notação de colchete.\n",
    "* Os tipos de sequências são todos baseados no 0 (zero), os índices são contados a partir do 0."
   ]
  },
  {
   "cell_type": "code",
   "execution_count": 45,
   "metadata": {
    "slideshow": {
     "slide_type": "fragment"
    }
   },
   "outputs": [
    {
     "name": "stdout",
     "output_type": "stream",
     "text": [
      "abc\n"
     ]
    }
   ],
   "source": [
    "tupla = (3, 'abc', 4.56, (2, 23), 'k')\n",
    "print (tupla[1])"
   ]
  },
  {
   "cell_type": "code",
   "execution_count": 47,
   "metadata": {
    "slideshow": {
     "slide_type": "fragment"
    }
   },
   "outputs": [
    {
     "name": "stdout",
     "output_type": "stream",
     "text": [
      "34\n"
     ]
    }
   ],
   "source": [
    "lista = ['abc', 34, 3.1415, 23]\n",
    "print (lista[1])"
   ]
  },
  {
   "cell_type": "code",
   "execution_count": 48,
   "metadata": {
    "slideshow": {
     "slide_type": "fragment"
    }
   },
   "outputs": [
    {
     "name": "stdout",
     "output_type": "stream",
     "text": [
      "e\n"
     ]
    }
   ],
   "source": [
    "st = 'Hello'\n",
    "print (st[1])"
   ]
  },
  {
   "cell_type": "markdown",
   "metadata": {
    "slideshow": {
     "slide_type": "slide"
    }
   },
   "source": [
    "# Tipos de Sequências: índices negativos\n",
    "\n",
    "* índice positivo: contar da esquerda para a direita, começando do zero\n",
    "* índice negativo: contar da direita para a esquerda, começando do -1."
   ]
  },
  {
   "cell_type": "code",
   "execution_count": 49,
   "metadata": {
    "slideshow": {
     "slide_type": "fragment"
    }
   },
   "outputs": [
    {
     "name": "stdout",
     "output_type": "stream",
     "text": [
      "abc\n"
     ]
    }
   ],
   "source": [
    "tupla = (3, 'abc', 4.56, (2, 23), 'k')\n",
    "print (tupla[1])"
   ]
  },
  {
   "cell_type": "code",
   "execution_count": 50,
   "metadata": {
    "slideshow": {
     "slide_type": "fragment"
    }
   },
   "outputs": [
    {
     "name": "stdout",
     "output_type": "stream",
     "text": [
      "k\n"
     ]
    }
   ],
   "source": [
    "print (tupla[-1])"
   ]
  },
  {
   "cell_type": "markdown",
   "metadata": {
    "slideshow": {
     "slide_type": "slide"
    }
   },
   "source": [
    "# Tipos de Sequências: fatiamento (\"slicing\")\n",
    "\n",
    "* Você pode retornar uma cópia do container (lista, tupla, string, ...) com um sub-conjunto dos membros originais, usando uma notação de cólon (dois pontos)."
   ]
  },
  {
   "cell_type": "code",
   "execution_count": 51,
   "metadata": {
    "slideshow": {
     "slide_type": "fragment"
    }
   },
   "outputs": [
    {
     "name": "stdout",
     "output_type": "stream",
     "text": [
      "('abc', 4.56, (2, 23))\n"
     ]
    }
   ],
   "source": [
    "tupla = (3, 'abc', 4.56, (2, 23), 'k')\n",
    "print (tupla[1:4])"
   ]
  },
  {
   "cell_type": "code",
   "execution_count": 52,
   "metadata": {
    "slideshow": {
     "slide_type": "fragment"
    }
   },
   "outputs": [
    {
     "name": "stdout",
     "output_type": "stream",
     "text": [
      "('abc', 4.56, (2, 23))\n"
     ]
    }
   ],
   "source": [
    "print (tupla[1:-1])"
   ]
  },
  {
   "cell_type": "markdown",
   "metadata": {
    "slideshow": {
     "slide_type": "slide"
    }
   },
   "source": [
    "# Tuplas Vs. Listas\n",
    "\n",
    "* **Listas** são mais lentas, porém mais poderosas do que as **tuplas**\n",
    "   * As **listas** podem ser modificadas e têm várias operações úteis que podemos fazer com elas (_reverse, sort, count, remove, index, insert_, ...)\n",
    "   * As **tuplas** são imutáveis e têm menos funcionalidades.\n",
    "   \n",
    "   \n",
    "* Podemos converter listas e tuplas com as funções **_list()_** e **_tuple()_**"
   ]
  },
  {
   "cell_type": "code",
   "execution_count": 13,
   "metadata": {
    "slideshow": {
     "slide_type": "fragment"
    }
   },
   "outputs": [
    {
     "data": {
      "text/plain": [
       "[3, 'abc', 4.56, (2, 23), 'k']"
      ]
     },
     "execution_count": 13,
     "metadata": {},
     "output_type": "execute_result"
    }
   ],
   "source": [
    "list(tupla)"
   ]
  },
  {
   "cell_type": "markdown",
   "metadata": {
    "slideshow": {
     "slide_type": "slide"
    }
   },
   "source": [
    "# Mais um tipo: dicionários\n",
    "\n",
    "* Dicionários são containers que armazenam um **mapeamento** entre um conjunto de **_chaves_** (keys) e um conjunto de **_valores_**\n",
    "   * Chaves podem ser qualquer tipo **imutável**.\n",
    "   * Valores podem ser qualquer tipo.\n",
    "   * Um único dicionário pode guardar valores de tipos diferentes.\n",
    "   \n",
    "   \n",
    "* O usuário pode modificar, ver, procurar e deletar o par chave-valor no dicionário."
   ]
  },
  {
   "cell_type": "markdown",
   "metadata": {
    "slideshow": {
     "slide_type": "slide"
    }
   },
   "source": [
    "# Exemplos de dicionários"
   ]
  },
  {
   "cell_type": "code",
   "execution_count": 14,
   "metadata": {
    "slideshow": {
     "slide_type": "fragment"
    }
   },
   "outputs": [
    {
     "data": {
      "text/plain": [
       "'bozo'"
      ]
     },
     "execution_count": 14,
     "metadata": {},
     "output_type": "execute_result"
    }
   ],
   "source": [
    "d = {'user': 'bozo', 'pwd': 1234}          # criação de um dicionário\n",
    "d['user']"
   ]
  },
  {
   "cell_type": "code",
   "execution_count": 15,
   "metadata": {
    "slideshow": {
     "slide_type": "fragment"
    }
   },
   "outputs": [
    {
     "data": {
      "text/plain": [
       "1234"
      ]
     },
     "execution_count": 15,
     "metadata": {},
     "output_type": "execute_result"
    }
   ],
   "source": [
    "d['pwd']"
   ]
  },
  {
   "cell_type": "code",
   "execution_count": 16,
   "metadata": {
    "slideshow": {
     "slide_type": "fragment"
    }
   },
   "outputs": [
    {
     "ename": "KeyError",
     "evalue": "'bozo'",
     "output_type": "error",
     "traceback": [
      "\u001b[0;31m---------------------------------------------------------------------------\u001b[0m",
      "\u001b[0;31mKeyError\u001b[0m                                  Traceback (most recent call last)",
      "\u001b[0;32m<ipython-input-16-c8479a31e72b>\u001b[0m in \u001b[0;36m<module>\u001b[0;34m()\u001b[0m\n\u001b[0;32m----> 1\u001b[0;31m \u001b[0md\u001b[0m\u001b[0;34m[\u001b[0m\u001b[0;34m'bozo'\u001b[0m\u001b[0;34m]\u001b[0m\u001b[0;34m\u001b[0m\u001b[0m\n\u001b[0m",
      "\u001b[0;31mKeyError\u001b[0m: 'bozo'"
     ]
    }
   ],
   "source": [
    "d['bozo']"
   ]
  },
  {
   "cell_type": "code",
   "execution_count": 17,
   "metadata": {
    "slideshow": {
     "slide_type": "fragment"
    }
   },
   "outputs": [
    {
     "name": "stdout",
     "output_type": "stream",
     "text": [
      "{'user': 'bozo', 'pwd': 1234}\n"
     ]
    }
   ],
   "source": [
    "print (d)"
   ]
  },
  {
   "cell_type": "code",
   "execution_count": 18,
   "metadata": {
    "slideshow": {
     "slide_type": "slide"
    }
   },
   "outputs": [
    {
     "data": {
      "text/plain": [
       "{'pwd': 1234, 'user': 'clown'}"
      ]
     },
     "execution_count": 18,
     "metadata": {},
     "output_type": "execute_result"
    }
   ],
   "source": [
    "d['user'] = 'clown'\n",
    "d"
   ]
  },
  {
   "cell_type": "code",
   "execution_count": 19,
   "metadata": {
    "slideshow": {
     "slide_type": "fragment"
    }
   },
   "outputs": [
    {
     "data": {
      "text/plain": [
       "{'id': 45, 'pwd': 1234, 'user': 'clown'}"
      ]
     },
     "execution_count": 19,
     "metadata": {},
     "output_type": "execute_result"
    }
   ],
   "source": [
    "d['id'] = 45\n",
    "d"
   ]
  },
  {
   "cell_type": "code",
   "execution_count": 26,
   "metadata": {
    "slideshow": {
     "slide_type": "fragment"
    }
   },
   "outputs": [
    {
     "data": {
      "text/plain": [
       "{'id': 45, 'pwd': 1234}"
      ]
     },
     "execution_count": 26,
     "metadata": {},
     "output_type": "execute_result"
    }
   ],
   "source": [
    "del d['user']           # remover um ítem do dicionário\n",
    "d"
   ]
  },
  {
   "cell_type": "code",
   "execution_count": 27,
   "metadata": {
    "slideshow": {
     "slide_type": "fragment"
    }
   },
   "outputs": [
    {
     "data": {
      "text/plain": [
       "{}"
      ]
     },
     "execution_count": 27,
     "metadata": {},
     "output_type": "execute_result"
    }
   ],
   "source": [
    "d.clear()               # remover todos os ítens do dicionário\n",
    "d"
   ]
  },
  {
   "cell_type": "code",
   "execution_count": 53,
   "metadata": {
    "slideshow": {
     "slide_type": "slide"
    }
   },
   "outputs": [
    {
     "data": {
      "text/plain": [
       "['i', 'p', 'user']"
      ]
     },
     "execution_count": 53,
     "metadata": {},
     "output_type": "execute_result"
    }
   ],
   "source": [
    "d = {'user': {'bozo': 0}, 'p': 1234, 'i': 34}\n",
    "d.keys()                                 # lista das chaves do dicionário"
   ]
  },
  {
   "cell_type": "code",
   "execution_count": 29,
   "metadata": {
    "slideshow": {
     "slide_type": "fragment"
    }
   },
   "outputs": [
    {
     "data": {
      "text/plain": [
       "dict_values(['bozo', 1234, 34])"
      ]
     },
     "execution_count": 29,
     "metadata": {},
     "output_type": "execute_result"
    }
   ],
   "source": [
    "d.values()                               # lista dos valores"
   ]
  },
  {
   "cell_type": "code",
   "execution_count": 30,
   "metadata": {
    "slideshow": {
     "slide_type": "fragment"
    }
   },
   "outputs": [
    {
     "data": {
      "text/plain": [
       "dict_items([('user', 'bozo'), ('p', 1234), ('i', 34)])"
      ]
     },
     "execution_count": 30,
     "metadata": {},
     "output_type": "execute_result"
    }
   ],
   "source": [
    "d.items()                               # lista dos ítens"
   ]
  },
  {
   "cell_type": "markdown",
   "metadata": {
    "slideshow": {
     "slide_type": "slide"
    }
   },
   "source": [
    "# Espaço\n",
    "\n",
    "* O espaço em branco é significativo em Python: especialmente indentação e colocação de novas linhas\n",
    "* Use uma nova linha para terminar uma linha de código\n",
    "* Não se usa chaves {} para blocos de código!\n",
    "* Usa-se **indentação** para blocos de código"
   ]
  },
  {
   "cell_type": "code",
   "execution_count": 54,
   "metadata": {
    "slideshow": {
     "slide_type": "subslide"
    }
   },
   "outputs": [
    {
     "name": "stdout",
     "output_type": "stream",
     "text": [
      "bem-vindos\n",
      "Hoje às 15:07:07\n",
      "alunos e alunas\n",
      "ao curso de python\n"
     ]
    }
   ],
   "source": [
    "import time\n",
    "\n",
    "saudacoes = {'quem': 'alunos e alunas', 'que': 'bem-vindos', 'aonde': 'ao curso de python', 'quando': time.strftime(\"%H:%M:%S\")}\n",
    "for key in saudacoes.keys():\n",
    "    if (key == 'quem'):\n",
    "        print (saudacoes[key])\n",
    "    if key == 'que':\n",
    "        print (saudacoes[key])\n",
    "    if (key == 'aonde'):\n",
    "        print (saudacoes[key])\n",
    "    if (key == 'quando'):\n",
    "        print ('Hoje às ' + saudacoes[key])"
   ]
  },
  {
   "cell_type": "markdown",
   "metadata": {
    "slideshow": {
     "slide_type": "slide"
    }
   },
   "source": [
    "## Funções\n",
    "\n",
    "* **'def'** cria uma função e atribui um nome\n",
    "* **'return'** envia um resultado de volta ao chamador da função\n",
    "* argumentos são passados por designação\n",
    "* os tipos dos argumentos e do retorno da função não são declarados\n",
    "\n",
    "def __nome_da_função__(arg1, arg2, ...argN):\n",
    "\n",
    "    **_declarações_**\n",
    "\n",
    "    return **_valor_a_retornar_**\n"
   ]
  },
  {
   "cell_type": "code",
   "execution_count": 52,
   "metadata": {
    "collapsed": true,
    "slideshow": {
     "slide_type": "subslide"
    }
   },
   "outputs": [],
   "source": [
    "def produto(x, y):\n",
    "    return x*y"
   ]
  },
  {
   "cell_type": "code",
   "execution_count": 53,
   "metadata": {
    "slideshow": {
     "slide_type": "fragment"
    }
   },
   "outputs": [
    {
     "data": {
      "text/plain": [
       "10"
      ]
     },
     "execution_count": 53,
     "metadata": {},
     "output_type": "execute_result"
    }
   ],
   "source": [
    "produto(2,5)"
   ]
  },
  {
   "cell_type": "markdown",
   "metadata": {
    "slideshow": {
     "slide_type": "slide"
    }
   },
   "source": [
    "# Passagem de argumento para funções\n",
    "\n",
    "* Argumentos são passados por designação\n",
    "* Argumentos que são passados são designados como nomes locais\n",
    "* Designação de nomes de argumentos não afeta o chamador.\n",
    "* Designação de objetos mutáveis pode afetar o chamador."
   ]
  },
  {
   "cell_type": "code",
   "execution_count": 56,
   "metadata": {
    "slideshow": {
     "slide_type": "subslide"
    }
   },
   "outputs": [
    {
     "name": "stdout",
     "output_type": "stream",
     "text": [
      "8\n",
      "1\n"
     ]
    }
   ],
   "source": [
    "x = 8\n",
    "y = [1, 2]\n",
    "print (x)\n",
    "print (y[0])"
   ]
  },
  {
   "cell_type": "code",
   "execution_count": 57,
   "metadata": {
    "slideshow": {
     "slide_type": "fragment"
    }
   },
   "outputs": [
    {
     "name": "stdout",
     "output_type": "stream",
     "text": [
      "x = 8\n"
     ]
    }
   ],
   "source": [
    "def modificador(x, y):\n",
    "    x = 2              # modifica somente o valor local de x\n",
    "    y[0] = 'hi'        # modifica o objeto compartilhado\n",
    "\n",
    "modificador(x, y)      # chamada da função\n",
    "\n",
    "print ('x = %i' % x)"
   ]
  },
  {
   "cell_type": "code",
   "execution_count": 58,
   "metadata": {
    "slideshow": {
     "slide_type": "fragment"
    }
   },
   "outputs": [
    {
     "name": "stdout",
     "output_type": "stream",
     "text": [
      "('y[0] =', 'hi')\n"
     ]
    }
   ],
   "source": [
    "print ('y[0] =', y[0])"
   ]
  },
  {
   "cell_type": "markdown",
   "metadata": {
    "slideshow": {
     "slide_type": "slide"
    }
   },
   "source": [
    "# Pegadinhas de funções\n",
    "<font size=\"2.5\">\n",
    "<ul>\n",
    "<li> Todas as funções em Python retornam um valor!\n",
    "<li> Funções sem retorno especificado, retornam o valor especial 'None'\n",
    "<li> Não existe sobrecarga de função (_function overloading_) em Python.\n",
    "   <ul>\n",
    "   <li> Duas funções diferentes não podem ter o mesmo nome, mesmo com argumentos diferentes.\n",
    "   </ul>\n",
    "   \n",
    "<li> Funções podem ser usadas como qualquer outro tipo. Elas podem ser:\n",
    "   <ul>\n",
    "   <li> argumentos de outras funções\n",
    "   <li> valores de retorno de funções\n",
    "   <li> designadas a variáveis\n",
    "   <li> partes de listas, tuplas, etc.\n",
    "   </ul>\n",
    "</ul>   "
   ]
  },
  {
   "cell_type": "markdown",
   "metadata": {
    "slideshow": {
     "slide_type": "slide"
    }
   },
   "source": [
    "# Se divertindo com funções"
   ]
  },
  {
   "cell_type": "code",
   "execution_count": 71,
   "metadata": {
    "slideshow": {
     "slide_type": "fragment"
    }
   },
   "outputs": [
    {
     "name": "stdout",
     "output_type": "stream",
     "text": [
      "32\n",
      "207\n",
      "2.5555555555555554\n"
     ]
    }
   ],
   "source": [
    "def f(x, y):\n",
    "    return x + y\n",
    "\n",
    "def g(x, y):\n",
    "    return x*y\n",
    "\n",
    "def h(x, y):\n",
    "    if y == 0:\n",
    "        return 0\n",
    "    else:\n",
    "        return x/y\n",
    "    \n",
    "lista_de_funcoes = [f, g, h]\n",
    "\n",
    "a = 23\n",
    "b = 9\n",
    "for function in lista_de_funcoes:\n",
    "    #print (function)\n",
    "    print (function(a, b))"
   ]
  },
  {
   "cell_type": "markdown",
   "metadata": {
    "slideshow": {
     "slide_type": "slide"
    }
   },
   "source": [
    "# Diferenças com outras linguagens\n",
    "![title](otherLanguages.png)"
   ]
  },
  {
   "cell_type": "markdown",
   "metadata": {
    "slideshow": {
     "slide_type": "slide"
    }
   },
   "source": [
    "# Python Vs. Java\n",
    "\n",
    "* Programas de Python em geral são mais demorados para rodar\n",
    "\n",
    "\n",
    "* Mas também levam menos tempo para ser desenvolvidos\n",
    "\n",
    "\n",
    "* Programas de Python são em geral de 3 a 5 vezes menores do que um equivalente de Java."
   ]
  },
  {
   "cell_type": "markdown",
   "metadata": {
    "slideshow": {
     "slide_type": "slide"
    }
   },
   "source": [
    "# Python Vs. Perl\n",
    "\n",
    "* Ambos vêm do mesmo plano de fundo\n",
    "\n",
    "\n",
    "* Têm muitas funcionalidades parecidas, porém filosofias diferentes\n",
    "   * Perl enfatiza tarefas orientadas a aplicações: escaneamento de arquivos, expressões regulares, recursos de geração de relatório, etc.\n",
    "   * Python enfatiza metodologias comuns de programação: estrutura de dados, objeto orientado, ...\n",
    "\n",
    "\n",
    "* Python se aproxima de Perl, mas não poderá superá-lo em seus principais exemplos de uso.\n",
    "\n",
    "\n",
    "* Entretanto, Python tem uma aplicabilidade muito além da do Perl."
   ]
  },
  {
   "cell_type": "markdown",
   "metadata": {
    "slideshow": {
     "slide_type": "slide"
    }
   },
   "source": [
    "# Python Vs. C++\n",
    "\n",
    "* Tudo dito sobre o Java se aplica aqui também\n",
    "\n",
    "\n",
    "* O código de Python é em geral de 3 a 5 vezes mais rápido\n",
    "\n",
    "\n",
    "* Dizem que um programado de Python pode terminar em dois meses o que dois programadores de C++ não conseguem completar em um ano.\n",
    "\n",
    "\n",
    "* O Python brilha como uma linguagem aglutinadora para combinar componentes escritas em C++"
   ]
  },
  {
   "cell_type": "markdown",
   "metadata": {
    "slideshow": {
     "slide_type": "slide"
    }
   },
   "source": [
    "# Prós e Contras\n",
    "\n",
    "* <font color=\"brown\">3 Desvantagens de Python </font>\n",
    "   * concorrência e paralelismo são possíveis porém não muito elegantes\n",
    "   * programação de servidor/cliente não requer Python\n",
    "   * meta-programação (LISP) não é um forte de Python"
   ]
  },
  {
   "cell_type": "markdown",
   "metadata": {
    "slideshow": {
     "slide_type": "subslide"
    }
   },
   "source": [
    "* <font color=\"brown\">3 Vantagens de Python </font>\n",
    "   * Problemas com estilo (blocos e chaves) não existem\n",
    "   * A maneira \"fácil\" de fazer algo em Python é, em geral, a maneira correta (Python é intuitivo :-) ).\n",
    "   * Você se tornar produtivo com Python muito rapidamente, mesmo os iniciantes."
   ]
  },
  {
   "cell_type": "markdown",
   "metadata": {
    "slideshow": {
     "slide_type": "slide"
    }
   },
   "source": [
    "# Python em Física\n",
    "Python é certo para mim?\n",
    "![title](physics.png)"
   ]
  },
  {
   "cell_type": "markdown",
   "metadata": {
    "slideshow": {
     "slide_type": "slide"
    }
   },
   "source": [
    "# Preciso...manipular grandes estruturas de dados\n",
    "\n",
    "* Talvez você queira dar uma olha em Pandas. ![title](pandas.png)\n",
    "* Uma biblioteca de software escrita para Python para manipulação e anaálise de dados.<img src=\"table.png\" alt=\"\" style=\"width: 400px;\"/>\n",
    "   * alinhamento de dados\n",
    "   * funcionalidade de séries temporais\n",
    "   * agrupamento por, giro"
   ]
  },
  {
   "cell_type": "markdown",
   "metadata": {
    "slideshow": {
     "slide_type": "slide"
    }
   },
   "source": [
    "# Preciso...lidar com grandes 'arrays', matrizes\n",
    "<img src=\"numPy.png\" alt=\"\" style=\"width: 100px;\"/>\n",
    "* NumPy é uma extensão escrita para adicionar suporte a arrays e matrizes grandes e multi-dimensionais, junto com uma grande biblioteca de funções matemáticas de alto nível para manipular esses arrays.\n",
    "* Exemplo: multiplicação de elementos de grandes arrays\n",
    "<table>\n",
    "   <tr>\n",
    "      <td>\n",
    "        <font size=\"4\">\n",
    "        <b>Python</b>\n",
    "        <img src='pyEx.png'>\n",
    "        Slow\n",
    "      </td>\n",
    "      <td>\n",
    "        <font size=\"4\">\n",
    "        <b>NumPy</b>\n",
    "        <img src='numPyEx.png'>\n",
    "        Fast (C)\n",
    "      </td>\n",
    "   </tr>\n",
    "</table>"
   ]
  },
  {
   "cell_type": "markdown",
   "metadata": {
    "slideshow": {
     "slide_type": "slide"
    }
   },
   "source": [
    "# Preciso...fazer computação científica\n",
    "<img src=\"sciPy.png\" alt=\"\" style=\"width: 200px;\"/>\n",
    "<table>\n",
    "   <tr>\n",
    "      <td>\n",
    "        <li>SciPy vem com suporte para:\n",
    "        <li>otimização\n",
    "        <li>álgebra linear\n",
    "        <li>integração\n",
    "        <li>interpolação\n",
    "        <li>funções especiais\n",
    "        <li>FFT\n",
    "        <li>equações diferenciais ordinárias\n",
    "        <li>...\n",
    "   </td>\n",
    "      <td>\n",
    "      <img src='sciPy2.png'>\n",
    "      </td>\n",
    "   </tr>\n",
    "</table>"
   ]
  },
  {
   "cell_type": "markdown",
   "metadata": {
    "slideshow": {
     "slide_type": "slide"
    }
   },
   "source": [
    "![](matplotlib.png)"
   ]
  },
  {
   "cell_type": "markdown",
   "metadata": {
    "slideshow": {
     "slide_type": "slide"
    }
   },
   "source": [
    "# Preciso...de ROOT\n",
    "![](rootpy.png)\n",
    "* Rootpy é uma camada \"pythonica\" em cima de Pyroot (que é uma interface de Python para ROOT)\n",
    "* Não tem a intenção de recriar ROOT ou alterar o comportamento padrão de ROOT\n",
    "* Não é um \"framework\" de análise, mas uma biblioteca para ser usada pelo framework de análise de alguém\n",
    "* Fornece interface para os pacotes de Python científico (Pandas, NumPy, SciPy, ...)"
   ]
  },
  {
   "cell_type": "markdown",
   "metadata": {
    "slideshow": {
     "slide_type": "slide"
    }
   },
   "source": [
    "# E tem mais...\n",
    "* QuTiP: simulação da dinâmica de sistemas quânticos abertos (open quantum system)\n",
    "* SymPy: biblioteca para matemática simbólica\n",
    "* scikit-learn: aprendizado de máquinas (machine learning) em Python\n",
    "* astropy: pacote para astronomia \n",
    "* cosmocalc: versão de Python do \"Cosmology Calculator\"\n",
    "* ALPS: algoritmos e bibliotecas para simulações em física\n",
    "* SunPy: física solar"
   ]
  },
  {
   "cell_type": "markdown",
   "metadata": {
    "slideshow": {
     "slide_type": "slide"
    }
   },
   "source": [
    "![](mostPopularProgrammingLanguages.png)"
   ]
  },
  {
   "cell_type": "markdown",
   "metadata": {
    "slideshow": {
     "slide_type": "slide"
    }
   },
   "source": [
    "# Python\n",
    "* Python, mais uma linguagem de programação\n",
    "\n",
    "\n",
    "* Não existem muitos casos sérios (em física) que não permitem o uso de Python.\n",
    "\n",
    "\n",
    "* Com ciclos rápidos de desenvolvimento, Python é uma alternativa real em relação a outras opções de programação\n",
    "\n",
    "\n",
    "* Iniciantes progridem rapidamente"
   ]
  },
  {
   "cell_type": "markdown",
   "metadata": {
    "collapsed": true,
    "slideshow": {
     "slide_type": "slide"
    }
   },
   "source": [
    "# BACKUP"
   ]
  },
  {
   "cell_type": "markdown",
   "metadata": {
    "slideshow": {
     "slide_type": "slide"
    }
   },
   "source": [
    "**Syntax** is about the structure or the grammar of the language. It answers the question: how do I construct a valid sentence? All languages, even English and other human (aka \"natural\") languages have grammars, that is, rules that define whether or not the sentence is properly constructed.\n",
    "<br>\n",
    "Here are some C language syntax rules:\n",
    "\n",
    "* separate statements with a semi-colon\n",
    "* enclose the conditional expression of an IF statement inside parentheses\n",
    "* group multiple statements into a single statement by enclosing in curly braces\n",
    "* data types and variables must be declared before the first executable statement (this feature has been dropped in C99. C99 and latter allow mixed type declarations.)\n",
    "<br>\n",
    "<br>\n",
    "**Semantics** is about the meaning of the sentence. It answers the questions: is this sentence valid? If so, what does the sentence mean? For example:\n",
    "<br>\n",
    "x++;                  // increment\n",
    "foo(xyz, --b, &qrs);  // call foo\n",
    "<br>\n",
    "are syntactically valid C statements. But what do they mean? Is it even valid to attempt to transform these statements into an executable sequence of instructions? These questions are at the heart of semantics.\n",
    "\n",
    "Consider the ++ operator in the first statement. First of all, is it even valid to attempt this?\n",
    "\n",
    "If x is a float data type, this statement has no meaning (according to the C language rules) and thus it is an error even though the statement is syntactically correct.\n",
    "If x is a pointer to some data type, the meaning of the statement is to \"add sizeof(some data type) to the value at address x and store the result into the location at address x\".\n",
    "If x is a scalar, the meaning of the statement is \"add one to the value at address x and store the result into the location at address x\".\n",
    "Finally, note that some semantics cannot be determined at compile-time and must therefore must be evaluated at run-time. In the ++ operator example, if x is already at the maximum value for its data type, what happens when you try to add 1 to it? Another example: what happens if your program attempts to dereference a pointer whose value is NULL?\n",
    "\n",
    "In summary, syntax is the concept that concerns itself only whether or not the sentence is valid for the grammar of the language . Semantics is about whether or not the sentence has a valid meaning."
   ]
  },
  {
   "cell_type": "markdown",
   "metadata": {
    "slideshow": {
     "slide_type": "slide"
    }
   },
   "source": [
    "# Glossário\n",
    "* sintaxe: a gramática da programação\n",
    "* semântica: o significado da programação\n",
    "* container: um objeto que contém outros objetos\n",
    "* mapa: uma coleção associativa desordenada\n",
    "* metaprogramming: Programs that write programs"
   ]
  },
  {
   "cell_type": "code",
   "execution_count": null,
   "metadata": {
    "collapsed": true
   },
   "outputs": [],
   "source": []
  }
 ],
 "metadata": {
  "celltoolbar": "Slideshow",
  "kernelspec": {
   "display_name": "Python 3",
   "language": "python",
   "name": "python3"
  },
  "language_info": {
   "codemirror_mode": {
    "name": "ipython",
    "version": 3
   },
   "file_extension": ".py",
   "mimetype": "text/x-python",
   "name": "python",
   "nbconvert_exporter": "python",
   "pygments_lexer": "ipython3",
   "version": "3.6.1"
  }
 },
 "nbformat": 4,
 "nbformat_minor": 2
}
